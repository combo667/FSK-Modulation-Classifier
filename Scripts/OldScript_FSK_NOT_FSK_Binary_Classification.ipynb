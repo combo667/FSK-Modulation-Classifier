{
  "nbformat": 4,
  "nbformat_minor": 0,
  "metadata": {
    "colab": {
      "provenance": [],
      "gpuType": "T4"
    },
    "kernelspec": {
      "name": "python3",
      "display_name": "Python 3"
    },
    "language_info": {
      "name": "python"
    },
    "accelerator": "GPU"
  },
  "cells": [
    {
      "cell_type": "code",
      "source": [
        "pip install split-folders"
      ],
      "metadata": {
        "colab": {
          "base_uri": "https://localhost:8080/"
        },
        "id": "8KqRdlrTtZNW",
        "outputId": "be48a3c1-c89c-457d-ffa4-6a0e5481fffe"
      },
      "execution_count": 1,
      "outputs": [
        {
          "output_type": "stream",
          "name": "stdout",
          "text": [
            "Collecting split-folders\n",
            "  Downloading split_folders-0.5.1-py3-none-any.whl (8.4 kB)\n",
            "Installing collected packages: split-folders\n",
            "Successfully installed split-folders-0.5.1\n"
          ]
        }
      ]
    },
    {
      "cell_type": "code",
      "source": [
        "import numpy as np\n",
        "import splitfolders\n",
        "import tensorflow.keras as keras\n",
        "import tensorflow as tf\n",
        "from keras.models import Sequential\n",
        "from keras.layers import Dense, Conv2D, MaxPool2D, Flatten,Dropout\n",
        "from tensorflow.keras.preprocessing.image import ImageDataGenerator,load_img\n",
        "from tensorflow.keras.applications import VGG16\n",
        "import matplotlib.pyplot as plt\n",
        "from keras.optimizers import Adam\n",
        "from keras.callbacks import ModelCheckpoint, EarlyStopping\n",
        "from keras.losses import categorical_crossentropy\n",
        "import os\n",
        "from sklearn.metrics import confusion_matrix, ConfusionMatrixDisplay"
      ],
      "metadata": {
        "id": "Cf3DZ8wMtp_v"
      },
      "execution_count": 2,
      "outputs": []
    },
    {
      "cell_type": "code",
      "execution_count": 5,
      "metadata": {
        "id": "A41OnIarWMDd",
        "colab": {
          "base_uri": "https://localhost:8080/"
        },
        "outputId": "f7594e0c-7aca-4271-cb36-e804381f0b53"
      },
      "outputs": [
        {
          "output_type": "stream",
          "name": "stdout",
          "text": [
            "Mounted at /content/drive\n"
          ]
        }
      ],
      "source": [
        "from google.colab import drive\n",
        "drive.mount('/content/drive')\n"
      ]
    },
    {
      "cell_type": "code",
      "source": [
        "import shutil\n",
        "\n",
        "# Path to the file in Google Drive\n",
        "file_path = '/content/drive/My Drive/dataset.zip'\n",
        "\n",
        "# Destination path in /content/\n",
        "destination_path = '/content/dataset.zip'\n",
        "\n",
        "# Copy the file\n",
        "shutil.copy(file_path, destination_path)\n"
      ],
      "metadata": {
        "colab": {
          "base_uri": "https://localhost:8080/",
          "height": 36
        },
        "id": "Qpth-JCvX8RH",
        "outputId": "2aee2ee9-3c02-42f5-e0e0-1ee40c90df50"
      },
      "execution_count": 6,
      "outputs": [
        {
          "output_type": "execute_result",
          "data": {
            "text/plain": [
              "'/content/dataset.zip'"
            ],
            "application/vnd.google.colaboratory.intrinsic+json": {
              "type": "string"
            }
          },
          "metadata": {},
          "execution_count": 6
        }
      ]
    },
    {
      "cell_type": "code",
      "source": [
        "import zipfile\n",
        "\n",
        "zip_path = 'dataset.zip'  # Replace with the path to your zip file\n",
        "extract_to = '/content/'  # Replace with the directory where you want to extract the contents\n",
        "\n",
        "with zipfile.ZipFile(zip_path, 'r') as zip_ref:\n",
        "    zip_ref.extractall(extract_to)\n",
        "\n",
        "print(f\"Extracted '{zip_path}' to '{extract_to}'\")\n"
      ],
      "metadata": {
        "colab": {
          "base_uri": "https://localhost:8080/"
        },
        "id": "a6G_t275YKvP",
        "outputId": "c22b23ce-72c3-4efe-94d9-b92f3639a80d"
      },
      "execution_count": 7,
      "outputs": [
        {
          "output_type": "stream",
          "name": "stdout",
          "text": [
            "Extracted 'dataset.zip' to '/content/'\n"
          ]
        }
      ]
    },
    {
      "cell_type": "code",
      "source": [
        "splitfolders.ratio('/content/dataset',output='/content/datasplit', seed=1337, ratio=(0.7,0.2,0.1),group_prefix=None, move=False)\n",
        "\n",
        "class_names=[\"FSK\",\"NOT_FSK\"]\n",
        "\n",
        "#weights_path = 'E:/Drone_Signal_Classification/WITH_NOISE/Elsec_Dataset/weights/vgg16_weights_tf_dim_ordering_tf_kernels_notop.h5'\n",
        "\n",
        "\n",
        "datagen = ImageDataGenerator(rescale = 1./255)\n",
        "\n",
        "train_generator = datagen.flow_from_directory(\n",
        "    directory = \"/content/datasplit/train\",\n",
        "    classes = class_names,\n",
        "    target_size = (224,224),\n",
        "    batch_size = 16,\n",
        "    class_mode = \"binary\",\n",
        "    subset=\"training\"\n",
        ")\n",
        "\n",
        "\n",
        "valid_generator = datagen.flow_from_directory(\n",
        "    directory = \"/content/datasplit/val\",\n",
        "    classes = class_names,\n",
        "    target_size = (224,224),\n",
        "    batch_size = 16,\n",
        "    class_mode = \"binary\",\n",
        ")\n",
        "\n",
        "test_generator = datagen.flow_from_directory(\n",
        "    directory = \"/content/datasplit/test\",\n",
        "    classes = class_names,\n",
        "    target_size = (224,224),\n",
        "    batch_size = 8,\n",
        "    class_mode = \"binary\",\n",
        "    shuffle = False\n",
        ")\n",
        "\n",
        "\n",
        "model_vgg16 = VGG16(input_shape=(224,224,3),include_top = False,weights =\"imagenet\")\n",
        "\n",
        "for layer in model_vgg16.layers:\n",
        "  layer.trainable=False\n",
        "\n",
        "\n",
        "model = Sequential()\n",
        "model.add(model_vgg16)\n",
        "model.add(Flatten())\n",
        "model.add(Dense(512,activation = \"relu\"))\n",
        "model.add(Dropout(0.5))\n",
        "model.add(Dense(1,activation =\"sigmoid\"))\n",
        "\n",
        "model.summary()\n",
        "\n",
        "model.compile(optimizer=\"adam\",loss=\"binary_crossentropy\",metrics =[\"accuracy\"])\n",
        "\n"
      ],
      "metadata": {
        "colab": {
          "base_uri": "https://localhost:8080/"
        },
        "id": "O8dd1Jb4YuqL",
        "outputId": "0dd66565-6a8f-4779-c034-80d4e27b0c6f"
      },
      "execution_count": 8,
      "outputs": [
        {
          "output_type": "stream",
          "name": "stderr",
          "text": [
            "Copying files: 16000 files [00:01, 8097.91 files/s]\n"
          ]
        },
        {
          "output_type": "stream",
          "name": "stdout",
          "text": [
            "Found 11200 images belonging to 2 classes.\n",
            "Found 3200 images belonging to 2 classes.\n",
            "Found 1600 images belonging to 2 classes.\n",
            "Downloading data from https://storage.googleapis.com/tensorflow/keras-applications/vgg16/vgg16_weights_tf_dim_ordering_tf_kernels_notop.h5\n",
            "58889256/58889256 [==============================] - 3s 0us/step\n",
            "Model: \"sequential\"\n",
            "_________________________________________________________________\n",
            " Layer (type)                Output Shape              Param #   \n",
            "=================================================================\n",
            " vgg16 (Functional)          (None, 7, 7, 512)         14714688  \n",
            "                                                                 \n",
            " flatten (Flatten)           (None, 25088)             0         \n",
            "                                                                 \n",
            " dense (Dense)               (None, 512)               12845568  \n",
            "                                                                 \n",
            " dropout (Dropout)           (None, 512)               0         \n",
            "                                                                 \n",
            " dense_1 (Dense)             (None, 1)                 513       \n",
            "                                                                 \n",
            "=================================================================\n",
            "Total params: 27560769 (105.14 MB)\n",
            "Trainable params: 12846081 (49.00 MB)\n",
            "Non-trainable params: 14714688 (56.13 MB)\n",
            "_________________________________________________________________\n"
          ]
        }
      ]
    },
    {
      "cell_type": "code",
      "source": [
        "history = model.fit(train_generator,validation_data = valid_generator,epochs = 25)"
      ],
      "metadata": {
        "colab": {
          "base_uri": "https://localhost:8080/"
        },
        "id": "abOIrxVrY7jB",
        "outputId": "3b722f2a-9213-448d-dd64-2bbca51d04b1"
      },
      "execution_count": 9,
      "outputs": [
        {
          "output_type": "stream",
          "name": "stdout",
          "text": [
            "Epoch 1/25\n",
            "700/700 [==============================] - 65s 81ms/step - loss: 0.0994 - accuracy: 0.9710 - val_loss: 0.0231 - val_accuracy: 0.9941\n",
            "Epoch 2/25\n",
            "700/700 [==============================] - 58s 83ms/step - loss: 0.0397 - accuracy: 0.9846 - val_loss: 0.0180 - val_accuracy: 0.9922\n",
            "Epoch 3/25\n",
            "700/700 [==============================] - 59s 84ms/step - loss: 0.0303 - accuracy: 0.9896 - val_loss: 0.0142 - val_accuracy: 0.9966\n",
            "Epoch 4/25\n",
            "700/700 [==============================] - 59s 85ms/step - loss: 0.0283 - accuracy: 0.9903 - val_loss: 0.0232 - val_accuracy: 0.9912\n",
            "Epoch 5/25\n",
            "700/700 [==============================] - 59s 85ms/step - loss: 0.0251 - accuracy: 0.9917 - val_loss: 0.0639 - val_accuracy: 0.9784\n",
            "Epoch 6/25\n",
            "700/700 [==============================] - 59s 85ms/step - loss: 0.0229 - accuracy: 0.9908 - val_loss: 0.0142 - val_accuracy: 0.9962\n",
            "Epoch 7/25\n",
            "700/700 [==============================] - 59s 84ms/step - loss: 0.0227 - accuracy: 0.9916 - val_loss: 0.0140 - val_accuracy: 0.9953\n",
            "Epoch 8/25\n",
            "700/700 [==============================] - 59s 85ms/step - loss: 0.0202 - accuracy: 0.9930 - val_loss: 0.0149 - val_accuracy: 0.9925\n",
            "Epoch 9/25\n",
            "700/700 [==============================] - 60s 85ms/step - loss: 0.0214 - accuracy: 0.9926 - val_loss: 0.0134 - val_accuracy: 0.9941\n",
            "Epoch 10/25\n",
            "700/700 [==============================] - 60s 86ms/step - loss: 0.0188 - accuracy: 0.9928 - val_loss: 0.0128 - val_accuracy: 0.9962\n",
            "Epoch 11/25\n",
            "700/700 [==============================] - 60s 86ms/step - loss: 0.0185 - accuracy: 0.9936 - val_loss: 0.0132 - val_accuracy: 0.9969\n",
            "Epoch 12/25\n",
            "700/700 [==============================] - 60s 86ms/step - loss: 0.0190 - accuracy: 0.9928 - val_loss: 0.0116 - val_accuracy: 0.9966\n",
            "Epoch 13/25\n",
            "700/700 [==============================] - 67s 96ms/step - loss: 0.0168 - accuracy: 0.9936 - val_loss: 0.0142 - val_accuracy: 0.9953\n",
            "Epoch 14/25\n",
            "700/700 [==============================] - 60s 85ms/step - loss: 0.0160 - accuracy: 0.9945 - val_loss: 0.0109 - val_accuracy: 0.9969\n",
            "Epoch 15/25\n",
            "700/700 [==============================] - 60s 86ms/step - loss: 0.0153 - accuracy: 0.9944 - val_loss: 0.0208 - val_accuracy: 0.9944\n",
            "Epoch 16/25\n",
            "700/700 [==============================] - 60s 86ms/step - loss: 0.0140 - accuracy: 0.9950 - val_loss: 0.0165 - val_accuracy: 0.9941\n",
            "Epoch 17/25\n",
            "700/700 [==============================] - 68s 97ms/step - loss: 0.0200 - accuracy: 0.9925 - val_loss: 0.0131 - val_accuracy: 0.9944\n",
            "Epoch 18/25\n",
            "700/700 [==============================] - 60s 85ms/step - loss: 0.0154 - accuracy: 0.9947 - val_loss: 0.0155 - val_accuracy: 0.9934\n",
            "Epoch 19/25\n",
            "700/700 [==============================] - 60s 86ms/step - loss: 0.0129 - accuracy: 0.9947 - val_loss: 0.0132 - val_accuracy: 0.9969\n",
            "Epoch 20/25\n",
            "700/700 [==============================] - 60s 86ms/step - loss: 0.0135 - accuracy: 0.9945 - val_loss: 0.0160 - val_accuracy: 0.9947\n",
            "Epoch 21/25\n",
            "700/700 [==============================] - 60s 86ms/step - loss: 0.0151 - accuracy: 0.9938 - val_loss: 0.0143 - val_accuracy: 0.9934\n",
            "Epoch 22/25\n",
            "700/700 [==============================] - 60s 86ms/step - loss: 0.0151 - accuracy: 0.9952 - val_loss: 0.0169 - val_accuracy: 0.9944\n",
            "Epoch 23/25\n",
            "700/700 [==============================] - 68s 97ms/step - loss: 0.0153 - accuracy: 0.9939 - val_loss: 0.0242 - val_accuracy: 0.9925\n",
            "Epoch 24/25\n",
            "700/700 [==============================] - 69s 98ms/step - loss: 0.0104 - accuracy: 0.9962 - val_loss: 0.0145 - val_accuracy: 0.9966\n",
            "Epoch 25/25\n",
            "700/700 [==============================] - 69s 98ms/step - loss: 0.0126 - accuracy: 0.9955 - val_loss: 0.0301 - val_accuracy: 0.9909\n"
          ]
        }
      ]
    },
    {
      "cell_type": "code",
      "source": [
        "test_loss, test_acc = model.evaluate(test_generator)\n",
        "print(\"test loss: \", test_loss)\n",
        "print(\"test accuracy: \", test_acc*100)"
      ],
      "metadata": {
        "colab": {
          "base_uri": "https://localhost:8080/"
        },
        "id": "ZcWYyb19czkK",
        "outputId": "2894d509-4c98-4902-bcc4-663351cb0abf"
      },
      "execution_count": 10,
      "outputs": [
        {
          "output_type": "stream",
          "name": "stdout",
          "text": [
            "200/200 [==============================] - 12s 47ms/step - loss: 0.0452 - accuracy: 0.9894\n",
            "test loss:  0.045228052884340286\n",
            "test accuracy:  98.93749952316284\n"
          ]
        }
      ]
    },
    {
      "cell_type": "code",
      "source": [
        "import os\n",
        "import glob\n",
        "\n",
        "# Set the path to your folder\n",
        "folder_path = '/content/datasplit/test/elsec'\n",
        "\n",
        "# Loop through all files in the folder\n",
        "for filename in glob.glob(os.path.join(folder_path, '*')):\n",
        "    print('Processing file:', filename)\n"
      ],
      "metadata": {
        "id": "A0HaR7fzg1cQ"
      },
      "execution_count": null,
      "outputs": []
    },
    {
      "cell_type": "code",
      "source": [
        "from tensorflow.keras.preprocessing import image\n",
        "\n",
        "\n",
        "results = []\n",
        "folder_path = '/content/datasplit/test/mavic_classic'\n",
        "for filename in glob.glob(os.path.join(folder_path, '*')):\n",
        "    img_path = filename\n",
        "    img = image.load_img(img_path, target_size=(224, 224))  # Resize to match model input\n",
        "    img_array = image.img_to_array(img)  # Convert to numpy array\n",
        "    img_array = np.expand_dims(img_array, axis=0)  # Add batch dimension\n",
        "    img_array /= 255.0\n",
        "\n",
        "    y_pred = model.predict(img_array)\n",
        "    predicted_class_index = np.argmax(y_pred, axis=1)\n",
        "    results.append(predicted_class_index[0])\n",
        "print(results)"
      ],
      "metadata": {
        "colab": {
          "base_uri": "https://localhost:8080/"
        },
        "id": "KgfQo-RDf8Y2",
        "outputId": "fb459bd1-213e-4e95-a201-ca1f56426041"
      },
      "execution_count": null,
      "outputs": [
        {
          "output_type": "stream",
          "name": "stdout",
          "text": [
            "1/1 [==============================] - 0s 30ms/step\n",
            "1/1 [==============================] - 0s 33ms/step\n",
            "1/1 [==============================] - 0s 20ms/step\n",
            "1/1 [==============================] - 0s 19ms/step\n",
            "1/1 [==============================] - 0s 19ms/step\n",
            "1/1 [==============================] - 0s 20ms/step\n",
            "1/1 [==============================] - 0s 19ms/step\n",
            "1/1 [==============================] - 0s 19ms/step\n",
            "1/1 [==============================] - 0s 19ms/step\n",
            "1/1 [==============================] - 0s 19ms/step\n",
            "1/1 [==============================] - 0s 28ms/step\n",
            "1/1 [==============================] - 0s 19ms/step\n",
            "1/1 [==============================] - 0s 19ms/step\n",
            "1/1 [==============================] - 0s 19ms/step\n",
            "1/1 [==============================] - 0s 18ms/step\n",
            "1/1 [==============================] - 0s 18ms/step\n",
            "1/1 [==============================] - 0s 19ms/step\n",
            "1/1 [==============================] - 0s 22ms/step\n",
            "1/1 [==============================] - 0s 22ms/step\n",
            "1/1 [==============================] - 0s 26ms/step\n",
            "1/1 [==============================] - 0s 18ms/step\n",
            "1/1 [==============================] - 0s 19ms/step\n",
            "1/1 [==============================] - 0s 19ms/step\n",
            "1/1 [==============================] - 0s 19ms/step\n",
            "1/1 [==============================] - 0s 18ms/step\n",
            "1/1 [==============================] - 0s 18ms/step\n",
            "1/1 [==============================] - 0s 19ms/step\n",
            "1/1 [==============================] - 0s 20ms/step\n",
            "1/1 [==============================] - 0s 19ms/step\n",
            "1/1 [==============================] - 0s 24ms/step\n",
            "1/1 [==============================] - 0s 22ms/step\n",
            "1/1 [==============================] - 0s 19ms/step\n",
            "1/1 [==============================] - 0s 19ms/step\n",
            "1/1 [==============================] - 0s 19ms/step\n",
            "1/1 [==============================] - 0s 18ms/step\n",
            "1/1 [==============================] - 0s 18ms/step\n",
            "1/1 [==============================] - 0s 20ms/step\n",
            "1/1 [==============================] - 0s 18ms/step\n",
            "1/1 [==============================] - 0s 18ms/step\n",
            "1/1 [==============================] - 0s 18ms/step\n",
            "1/1 [==============================] - 0s 19ms/step\n",
            "1/1 [==============================] - 0s 19ms/step\n",
            "1/1 [==============================] - 0s 23ms/step\n",
            "1/1 [==============================] - 0s 22ms/step\n",
            "1/1 [==============================] - 0s 18ms/step\n",
            "1/1 [==============================] - 0s 18ms/step\n",
            "1/1 [==============================] - 0s 19ms/step\n",
            "1/1 [==============================] - 0s 19ms/step\n",
            "1/1 [==============================] - 0s 18ms/step\n",
            "1/1 [==============================] - 0s 29ms/step\n",
            "1/1 [==============================] - 0s 20ms/step\n",
            "1/1 [==============================] - 0s 19ms/step\n",
            "1/1 [==============================] - 0s 18ms/step\n",
            "1/1 [==============================] - 0s 27ms/step\n",
            "1/1 [==============================] - 0s 40ms/step\n",
            "1/1 [==============================] - 0s 27ms/step\n",
            "1/1 [==============================] - 0s 29ms/step\n",
            "1/1 [==============================] - 0s 29ms/step\n",
            "1/1 [==============================] - 0s 27ms/step\n",
            "1/1 [==============================] - 0s 28ms/step\n",
            "1/1 [==============================] - 0s 28ms/step\n",
            "1/1 [==============================] - 0s 28ms/step\n",
            "1/1 [==============================] - 0s 28ms/step\n",
            "1/1 [==============================] - 0s 32ms/step\n",
            "1/1 [==============================] - 0s 43ms/step\n",
            "1/1 [==============================] - 0s 34ms/step\n",
            "1/1 [==============================] - 0s 28ms/step\n",
            "1/1 [==============================] - 0s 28ms/step\n",
            "1/1 [==============================] - 0s 28ms/step\n",
            "1/1 [==============================] - 0s 31ms/step\n",
            "1/1 [==============================] - 0s 29ms/step\n",
            "1/1 [==============================] - 0s 29ms/step\n",
            "1/1 [==============================] - 0s 28ms/step\n",
            "1/1 [==============================] - 0s 36ms/step\n",
            "1/1 [==============================] - 0s 29ms/step\n",
            "1/1 [==============================] - 0s 27ms/step\n",
            "1/1 [==============================] - 0s 30ms/step\n",
            "1/1 [==============================] - 0s 38ms/step\n",
            "1/1 [==============================] - 0s 33ms/step\n",
            "1/1 [==============================] - 0s 30ms/step\n",
            "1/1 [==============================] - 0s 30ms/step\n",
            "[1, 1, 1, 1, 1, 1, 1, 1, 1, 1, 1, 1, 1, 1, 1, 1, 1, 1, 1, 1, 1, 1, 1, 1, 1, 1, 1, 1, 1, 1, 1, 1, 1, 1, 1, 1, 1, 1, 1, 1, 1, 1, 1, 1, 1, 1, 1, 1, 1, 1, 1, 1, 1, 1, 1, 1, 1, 1, 1, 1, 1, 1, 1, 1, 1, 1, 1, 1, 1, 1, 1, 1, 1, 1, 1, 1, 1, 1, 1, 1, 1]\n"
          ]
        }
      ]
    },
    {
      "cell_type": "code",
      "source": [
        "class_names=[\"1.FSK\",\"2.NOT_FSK\"]\n",
        "test_generator = datagen.flow_from_directory(\n",
        "    directory = \"/content/datasplit/test\",\n",
        "    classes = class_names,\n",
        "    target_size = (224,224),\n",
        "    batch_size = 8,\n",
        "    class_mode = \"binary\",\n",
        "    shuffle = False\n",
        ")\n",
        "\n",
        "\n",
        "y_true =test_generator.classes\n",
        "print(y_true)\n",
        "y_pred = model.predict(test_generator)  # Get predicted probabilities\n",
        "y_pred_binary = (y_pred > 0.5).astype(int)  # Classify based on threshold (0.5 is common)\n",
        "print(y_pred_binary)\n",
        "cm=confusion_matrix(y_true, y_pred_binary)\n",
        "disp=ConfusionMatrixDisplay(confusion_matrix=cm, display_labels=class_names)\n",
        "disp.plot()\n",
        "plt.title('Confusion Matrix')\n",
        "plt.show()"
      ],
      "metadata": {
        "colab": {
          "base_uri": "https://localhost:8080/",
          "height": 654
        },
        "id": "HYQmYYGthwsU",
        "outputId": "d995e99f-a6f4-434d-933f-d0be5d527af7"
      },
      "execution_count": 14,
      "outputs": [
        {
          "output_type": "stream",
          "name": "stdout",
          "text": [
            "Found 1600 images belonging to 2 classes.\n",
            "[0 0 0 ... 1 1 1]\n",
            "200/200 [==============================] - 8s 42ms/step\n",
            "[[0]\n",
            " [0]\n",
            " [0]\n",
            " ...\n",
            " [1]\n",
            " [1]\n",
            " [1]]\n"
          ]
        },
        {
          "output_type": "display_data",
          "data": {
            "text/plain": [
              "<Figure size 640x480 with 2 Axes>"
            ],
            "image/png": "[encoded data removed]"
          },
          "metadata": {}
        }
      ]
    },
    {
      "cell_type": "code",
      "source": [
        "model.save('/content/VGG16_model_binary_mod_classification_Using_constellation.keras')"
      ],
      "metadata": {
        "id": "SISSP0bxeHlI"
      },
      "execution_count": 13,
      "outputs": []
    },
    {
      "cell_type": "code",
      "source": [
        "import matplotlib.pyplot as plt\n",
        "from sklearn.metrics import roc_curve, auc\n",
        "\n",
        "# Calculate ROC curve and AUC\n",
        "fpr, tpr, thresholds = roc_curve(y_true, y_pred_binary)\n",
        "roc_auc = auc(fpr, tpr)\n",
        "\n",
        "# Plot ROC curve\n",
        "plt.figure()\n",
        "plt.plot(fpr, tpr, color='darkorange', lw=2, label='ROC curve (area = %0.2f)' % roc_auc)\n",
        "plt.plot([0, 1], [0, 1], color='navy', lw=2, linestyle='--')\n",
        "plt.xlim([0.0, 1.0])\n",
        "plt.ylim([0.0, 1.05])\n",
        "plt.xlabel('False Positive Rate')\n",
        "plt.ylabel('True Positive Rate')\n",
        "plt.title('AUC Curve of the model')\n",
        "plt.legend(loc=\"lower right\")\n",
        "plt.show()\n"
      ],
      "metadata": {
        "colab": {
          "base_uri": "https://localhost:8080/",
          "height": 472
        },
        "id": "WavCerhoeSqx",
        "outputId": "7665d65f-bede-4b12-ba4a-25056d974f1d"
      },
      "execution_count": 17,
      "outputs": [
        {
          "output_type": "display_data",
          "data": {
            "text/plain": [
              "<Figure size 640x480 with 1 Axes>"
            ],
            "image/png": "[encoded data removed]"
          },
          "metadata": {}
        }
      ]
    },
    {
      "cell_type": "code",
      "source": [],
      "metadata": {
        "id": "Ty-LfXkM6G3i"
      },
      "execution_count": null,
      "outputs": []
    }
  ]
}