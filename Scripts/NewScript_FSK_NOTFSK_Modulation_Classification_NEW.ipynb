{
  "cells": [
    {
      "cell_type": "code",
      "execution_count": 1,
      "metadata": {
        "colab": {
          "base_uri": "https://localhost:8080/"
        },
        "id": "A41OnIarWMDd",
        "outputId": "5cb12176-677a-4183-f313-c045d4eb309c"
      },
      "outputs": [
        {
          "output_type": "stream",
          "name": "stdout",
          "text": [
            "Mounted at /content/drive\n"
          ]
        }
      ],
      "source": [
        "from google.colab import drive\n",
        "drive.mount('/content/drive')\n"
      ]
    },
    {
      "cell_type": "code",
      "execution_count": 18,
      "metadata": {
        "colab": {
          "base_uri": "https://localhost:8080/",
          "height": 36
        },
        "id": "Qpth-JCvX8RH",
        "outputId": "da0cb1a5-3883-4810-f3cc-fdc35526daf0"
      },
      "outputs": [
        {
          "output_type": "execute_result",
          "data": {
            "text/plain": [
              "'/content/dataset.zip'"
            ],
            "application/vnd.google.colaboratory.intrinsic+json": {
              "type": "string"
            }
          },
          "metadata": {},
          "execution_count": 18
        }
      ],
      "source": [
        "import shutil\n",
        "\n",
        "# Path to the file in Google Drive\n",
        "file_path = '/content/drive/My Drive/dataset.zip'\n",
        "\n",
        "# Destination path in /content/\n",
        "destination_path = '/content/dataset.zip'\n",
        "\n",
        "# Copy the file\n",
        "shutil.copy(file_path, destination_path)\n"
      ]
    },
    {
      "cell_type": "code",
      "source": [
        "import shutil\n",
        "\n",
        "file_path = '/content/vgg16_FSK_NOTFSK.h5'\n",
        "\n",
        "# Destination path within a folder in Google Drive\n",
        "destination_path = '/content/drive/My Drive/vgg16_FSK_NOTFSK.h5'\n",
        "\n",
        "# Copy the file\n",
        "shutil.copy(file_path, destination_path)"
      ],
      "metadata": {
        "colab": {
          "base_uri": "https://localhost:8080/",
          "height": 36
        },
        "id": "-39FYl5X3P6E",
        "outputId": "530ef4b3-f01f-43e7-8a07-c1738405fce6"
      },
      "execution_count": 48,
      "outputs": [
        {
          "output_type": "execute_result",
          "data": {
            "text/plain": [
              "'/content/drive/My Drive/vgg16_FSK_NOTFSK.h5'"
            ],
            "application/vnd.google.colaboratory.intrinsic+json": {
              "type": "string"
            }
          },
          "metadata": {},
          "execution_count": 48
        }
      ]
    },
    {
      "cell_type": "code",
      "source": [
        "!rm -rf /content/sample_data"
      ],
      "metadata": {
        "id": "VwOykh7D9aKG"
      },
      "execution_count": 32,
      "outputs": []
    },
    {
      "cell_type": "code",
      "execution_count": 19,
      "metadata": {
        "colab": {
          "base_uri": "https://localhost:8080/"
        },
        "id": "a6G_t275YKvP",
        "outputId": "8d81b41d-df64-4d21-ff72-308076b5a05f"
      },
      "outputs": [
        {
          "output_type": "stream",
          "name": "stdout",
          "text": [
            "Extracted 'dataset.zip' to '/content/'\n"
          ]
        }
      ],
      "source": [
        "import zipfile\n",
        "\n",
        "zip_path = 'dataset.zip'  # Replace with the path to your zip file\n",
        "extract_to = '/content/'  # Replace with the directory where you want to extract the contents\n",
        "\n",
        "with zipfile.ZipFile(zip_path, 'r') as zip_ref:\n",
        "    zip_ref.extractall(extract_to)\n",
        "\n",
        "print(f\"Extracted '{zip_path}' to '{extract_to}'\")\n"
      ]
    },
    {
      "cell_type": "code",
      "execution_count": null,
      "metadata": {
        "id": "TiAb96ogfZrQ"
      },
      "outputs": [],
      "source": []
    },
    {
      "cell_type": "code",
      "execution_count": 4,
      "metadata": {
        "colab": {
          "base_uri": "https://localhost:8080/"
        },
        "id": "g41DpGBtYhOp",
        "outputId": "43acd570-7a4d-426f-da3c-a068fc226829"
      },
      "outputs": [
        {
          "output_type": "stream",
          "name": "stdout",
          "text": [
            "Collecting split-folders\n",
            "  Downloading split_folders-0.5.1-py3-none-any.whl (8.4 kB)\n",
            "Installing collected packages: split-folders\n",
            "Successfully installed split-folders-0.5.1\n"
          ]
        }
      ],
      "source": [
        "pip install split-folders"
      ]
    },
    {
      "cell_type": "code",
      "execution_count": 33,
      "metadata": {
        "colab": {
          "base_uri": "https://localhost:8080/"
        },
        "id": "O8dd1Jb4YuqL",
        "outputId": "c3f9b28b-5aad-44f4-9463-86a688dee87d"
      },
      "outputs": [
        {
          "output_type": "stream",
          "name": "stderr",
          "text": [
            "Copying files: 16000 files [00:01, 8439.44 files/s]\n"
          ]
        },
        {
          "output_type": "stream",
          "name": "stdout",
          "text": [
            "Found 11200 images belonging to 2 classes.\n",
            "Found 3200 images belonging to 2 classes.\n",
            "Found 1600 images belonging to 2 classes.\n",
            "Model: \"sequential_1\"\n",
            "_________________________________________________________________\n",
            " Layer (type)                Output Shape              Param #   \n",
            "=================================================================\n",
            " vgg16 (Functional)          (None, 7, 7, 512)         14714688  \n",
            "                                                                 \n",
            " flatten_1 (Flatten)         (None, 25088)             0         \n",
            "                                                                 \n",
            " dense_2 (Dense)             (None, 512)               12845568  \n",
            "                                                                 \n",
            " dropout_1 (Dropout)         (None, 512)               0         \n",
            "                                                                 \n",
            " dense_3 (Dense)             (None, 1)                 513       \n",
            "                                                                 \n",
            "=================================================================\n",
            "Total params: 27560769 (105.14 MB)\n",
            "Trainable params: 12846081 (49.00 MB)\n",
            "Non-trainable params: 14714688 (56.13 MB)\n",
            "_________________________________________________________________\n"
          ]
        }
      ],
      "source": [
        "import numpy as np\n",
        "import splitfolders\n",
        "import tensorflow.keras as keras\n",
        "import tensorflow as tf\n",
        "from keras.models import Sequential\n",
        "from keras.layers import Dense, Conv2D, MaxPool2D, Flatten,Dropout\n",
        "from tensorflow.keras.preprocessing.image import ImageDataGenerator,load_img\n",
        "from tensorflow.keras.applications import VGG16\n",
        "import matplotlib.pyplot as plt\n",
        "from keras.optimizers import Adam\n",
        "from keras.callbacks import ModelCheckpoint, EarlyStopping\n",
        "from keras.losses import categorical_crossentropy\n",
        "import os\n",
        "from sklearn.metrics import confusion_matrix, ConfusionMatrixDisplay\n",
        "\n",
        "\n",
        "splitfolders.ratio('/content/dataset',output='/content/datasplit', seed=1337, ratio=(0.7,0.2,0.1),group_prefix=None, move=False)\n",
        "\n",
        "class_names=[\"FSK\",\"NOT_FSK\"]\n",
        "\n",
        "#weights_path = 'E:/Drone_Signal_Classification/WITH_NOISE/Elsec_Dataset/weights/vgg16_weights_tf_dim_ordering_tf_kernels_notop.h5'\n",
        "\n",
        "\n",
        "datagen = ImageDataGenerator(rescale = 1./255)\n",
        "\n",
        "train_generator = datagen.flow_from_directory(\n",
        "    directory = \"/content/datasplit/train\",\n",
        "    classes = class_names,\n",
        "    target_size = (224,224),\n",
        "    batch_size = 16,\n",
        "    class_mode = \"binary\",\n",
        "    subset=\"training\"\n",
        ")\n",
        "\n",
        "\n",
        "valid_generator = datagen.flow_from_directory(\n",
        "    directory = \"/content/datasplit/val\",\n",
        "    classes = class_names,\n",
        "    target_size = (224,224),\n",
        "    batch_size = 16,\n",
        "    class_mode = \"binary\",\n",
        ")\n",
        "\n",
        "test_generator = datagen.flow_from_directory(\n",
        "    directory = \"/content/datasplit/test\",\n",
        "    classes = class_names,\n",
        "    target_size = (224,224),\n",
        "    batch_size = 8,\n",
        "    class_mode = \"binary\",\n",
        "    shuffle = False\n",
        ")\n",
        "\n",
        "\n",
        "model_vgg16 = VGG16(input_shape=(224,224,3),include_top = False,weights =\"imagenet\")\n",
        "\n",
        "for layer in model_vgg16.layers:\n",
        "  layer.trainable=False\n",
        "\n",
        "\n",
        "model = Sequential()\n",
        "model.add(model_vgg16)\n",
        "model.add(Flatten())\n",
        "model.add(Dense(512,activation = \"relu\"))\n",
        "model.add(Dropout(0.5))\n",
        "model.add(Dense(1,activation =\"sigmoid\"))\n",
        "\n",
        "model.summary()\n",
        "\n",
        "model.compile(optimizer=\"adam\",loss=\"binary_crossentropy\",metrics =[\"accuracy\"])\n",
        "\n"
      ]
    },
    {
      "cell_type": "code",
      "source": [],
      "metadata": {
        "id": "eLV5TC5271Td"
      },
      "execution_count": null,
      "outputs": []
    },
    {
      "cell_type": "code",
      "execution_count": 34,
      "metadata": {
        "colab": {
          "base_uri": "https://localhost:8080/"
        },
        "id": "abOIrxVrY7jB",
        "outputId": "54f4ac54-f650-4154-bda1-1371f646b059"
      },
      "outputs": [
        {
          "output_type": "stream",
          "name": "stdout",
          "text": [
            "Epoch 1/25\n",
            "700/700 [==============================] - 73s 96ms/step - loss: 0.0812 - accuracy: 0.9753 - val_loss: 0.0164 - val_accuracy: 0.9953\n",
            "Epoch 2/25\n",
            "700/700 [==============================] - 59s 84ms/step - loss: 0.0399 - accuracy: 0.9857 - val_loss: 0.0155 - val_accuracy: 0.9950\n",
            "Epoch 3/25\n",
            "700/700 [==============================] - 59s 84ms/step - loss: 0.0325 - accuracy: 0.9878 - val_loss: 0.0143 - val_accuracy: 0.9966\n",
            "Epoch 4/25\n",
            "700/700 [==============================] - 59s 84ms/step - loss: 0.0337 - accuracy: 0.9877 - val_loss: 0.0141 - val_accuracy: 0.9962\n",
            "Epoch 5/25\n",
            "700/700 [==============================] - 59s 84ms/step - loss: 0.0286 - accuracy: 0.9887 - val_loss: 0.0146 - val_accuracy: 0.9944\n",
            "Epoch 6/25\n",
            "700/700 [==============================] - 59s 84ms/step - loss: 0.0270 - accuracy: 0.9904 - val_loss: 0.0139 - val_accuracy: 0.9947\n",
            "Epoch 7/25\n",
            "700/700 [==============================] - 59s 84ms/step - loss: 0.0192 - accuracy: 0.9936 - val_loss: 0.0218 - val_accuracy: 0.9919\n",
            "Epoch 8/25\n",
            "700/700 [==============================] - 59s 84ms/step - loss: 0.0235 - accuracy: 0.9911 - val_loss: 0.0167 - val_accuracy: 0.9937\n",
            "Epoch 9/25\n",
            "700/700 [==============================] - 59s 84ms/step - loss: 0.0216 - accuracy: 0.9920 - val_loss: 0.0160 - val_accuracy: 0.9947\n",
            "Epoch 10/25\n",
            "700/700 [==============================] - 59s 85ms/step - loss: 0.0208 - accuracy: 0.9923 - val_loss: 0.0140 - val_accuracy: 0.9969\n",
            "Epoch 11/25\n",
            "700/700 [==============================] - 59s 84ms/step - loss: 0.0176 - accuracy: 0.9932 - val_loss: 0.0138 - val_accuracy: 0.9959\n",
            "Epoch 12/25\n",
            "700/700 [==============================] - 59s 84ms/step - loss: 0.0152 - accuracy: 0.9940 - val_loss: 0.0196 - val_accuracy: 0.9937\n",
            "Epoch 13/25\n",
            "700/700 [==============================] - 59s 84ms/step - loss: 0.0207 - accuracy: 0.9932 - val_loss: 0.0134 - val_accuracy: 0.9969\n",
            "Epoch 14/25\n",
            "700/700 [==============================] - 67s 96ms/step - loss: 0.0153 - accuracy: 0.9935 - val_loss: 0.0150 - val_accuracy: 0.9969\n",
            "Epoch 15/25\n",
            "700/700 [==============================] - 59s 84ms/step - loss: 0.0167 - accuracy: 0.9929 - val_loss: 0.0140 - val_accuracy: 0.9966\n",
            "Epoch 16/25\n",
            "700/700 [==============================] - 59s 84ms/step - loss: 0.0161 - accuracy: 0.9941 - val_loss: 0.0153 - val_accuracy: 0.9966\n",
            "Epoch 17/25\n",
            "700/700 [==============================] - 59s 84ms/step - loss: 0.0149 - accuracy: 0.9946 - val_loss: 0.0103 - val_accuracy: 0.9969\n",
            "Epoch 18/25\n",
            "700/700 [==============================] - 59s 84ms/step - loss: 0.0159 - accuracy: 0.9948 - val_loss: 0.0111 - val_accuracy: 0.9969\n",
            "Epoch 19/25\n",
            "700/700 [==============================] - 59s 84ms/step - loss: 0.0133 - accuracy: 0.9948 - val_loss: 0.0251 - val_accuracy: 0.9906\n",
            "Epoch 20/25\n",
            "700/700 [==============================] - 67s 96ms/step - loss: 0.0122 - accuracy: 0.9953 - val_loss: 0.0131 - val_accuracy: 0.9966\n",
            "Epoch 21/25\n",
            "700/700 [==============================] - 67s 96ms/step - loss: 0.0162 - accuracy: 0.9941 - val_loss: 0.0128 - val_accuracy: 0.9975\n",
            "Epoch 22/25\n",
            "700/700 [==============================] - 59s 84ms/step - loss: 0.0110 - accuracy: 0.9958 - val_loss: 0.0275 - val_accuracy: 0.9903\n",
            "Epoch 23/25\n",
            "700/700 [==============================] - 59s 84ms/step - loss: 0.0140 - accuracy: 0.9944 - val_loss: 0.0156 - val_accuracy: 0.9931\n",
            "Epoch 24/25\n",
            "700/700 [==============================] - 59s 84ms/step - loss: 0.0111 - accuracy: 0.9965 - val_loss: 0.0253 - val_accuracy: 0.9937\n",
            "Epoch 25/25\n",
            "700/700 [==============================] - 59s 84ms/step - loss: 0.0097 - accuracy: 0.9957 - val_loss: 0.0155 - val_accuracy: 0.9972\n"
          ]
        }
      ],
      "source": [
        "history = model.fit(train_generator,validation_data = valid_generator,epochs = 25)"
      ]
    },
    {
      "cell_type": "code",
      "execution_count": 35,
      "metadata": {
        "colab": {
          "base_uri": "https://localhost:8080/"
        },
        "id": "ZcWYyb19czkK",
        "outputId": "9b6c5901-78c9-4a51-c157-81e2fa740f8b"
      },
      "outputs": [
        {
          "output_type": "stream",
          "name": "stdout",
          "text": [
            "200/200 [==============================] - 11s 57ms/step - loss: 0.0224 - accuracy: 0.9969\n",
            "test loss:  0.022390127182006836\n",
            "test accuracy:  99.6874988079071\n"
          ]
        }
      ],
      "source": [
        "test_loss, test_acc = model.evaluate(test_generator)\n",
        "print(\"test loss: \", test_loss)\n",
        "print(\"test accuracy: \", test_acc*100)"
      ]
    },
    {
      "cell_type": "code",
      "source": [
        "class_names=[\"1.FSK\",\"2.NOT_FSK\"]\n",
        "test_generator = datagen.flow_from_directory(\n",
        "    directory = \"/content/datasplit/test\",\n",
        "    classes = class_names,\n",
        "    target_size = (224,224),\n",
        "    batch_size = 8,\n",
        "    class_mode = \"binary\",\n",
        "    shuffle = False\n",
        ")\n",
        "\n",
        "\n",
        "y_true =test_generator.classes\n",
        "print(y_true)\n",
        "y_pred = model.predict(test_generator)  # Get predicted probabilities\n",
        "y_pred_binary = (y_pred > 0.5).astype(int)  # Classify based on threshold (0.5 is common)\n",
        "print(y_pred_binary)\n",
        "cm=confusion_matrix(y_true, y_pred_binary)\n",
        "disp=ConfusionMatrixDisplay(confusion_matrix=cm, display_labels=class_names)\n",
        "disp.plot()\n",
        "plt.title('Confusion Matrix')\n",
        "plt.show()"
      ],
      "metadata": {
        "colab": {
          "base_uri": "https://localhost:8080/",
          "height": 654
        },
        "id": "uGYePer2Mke_",
        "outputId": "bf95a979-213c-4c25-c5b5-8d4c36c67ef6"
      },
      "execution_count": 36,
      "outputs": [
        {
          "output_type": "stream",
          "name": "stdout",
          "text": [
            "Found 1600 images belonging to 2 classes.\n",
            "[0 0 0 ... 1 1 1]\n",
            "200/200 [==============================] - 9s 44ms/step\n",
            "[[0]\n",
            " [0]\n",
            " [0]\n",
            " ...\n",
            " [1]\n",
            " [1]\n",
            " [1]]\n"
          ]
        },
        {
          "output_type": "display_data",
          "data": {
            "text/plain": [
              "<Figure size 640x480 with 2 Axes>"
            ],
            "image/png": "[encoded data removed]"
          },
          "metadata": {}
        }
      ]
    },
    {
      "cell_type": "code",
      "source": [
        "model.save('vgg16_FSK_NOTFSK.h5')"
      ],
      "metadata": {
        "colab": {
          "base_uri": "https://localhost:8080/"
        },
        "id": "9pFa4Sw-731q",
        "outputId": "f3d48f48-c606-4f5c-ec91-4302b9cbbad4"
      },
      "execution_count": 47,
      "outputs": [
        {
          "output_type": "stream",
          "name": "stderr",
          "text": [
            "/usr/local/lib/python3.10/dist-packages/keras/src/engine/training.py:3103: UserWarning: You are saving your model as an HDF5 file via `model.save()`. This file format is considered legacy. We recommend using instead the native Keras format, e.g. `model.save('my_model.keras')`.\n",
            "  saving_api.save_model(\n"
          ]
        }
      ]
    }
  ],
  "metadata": {
    "accelerator": "GPU",
    "colab": {
      "gpuType": "T4",
      "provenance": []
    },
    "kernelspec": {
      "display_name": "Python 3",
      "name": "python3"
    },
    "language_info": {
      "name": "python"
    }
  },
  "nbformat": 4,
  "nbformat_minor": 0
}